{
  "nbformat": 4,
  "nbformat_minor": 0,
  "metadata": {
    "colab": {
      "name": "Untitled0.ipynb",
      "provenance": [],
      "authorship_tag": "ABX9TyPAsSkPxWcX8lAMJZmONWAp",
      "include_colab_link": true
    },
    "kernelspec": {
      "name": "python3",
      "display_name": "Python 3"
    },
    "language_info": {
      "name": "python"
    }
  },
  "cells": [
    {
      "cell_type": "markdown",
      "metadata": {
        "id": "view-in-github",
        "colab_type": "text"
      },
      "source": [
        "<a href=\"https://colab.research.google.com/github/goransh02/Meta-Learning-SOC-2021-IITB/blob/main/Untitled0.ipynb\" target=\"_parent\"><img src=\"https://colab.research.google.com/assets/colab-badge.svg\" alt=\"Open In Colab\"/></a>"
      ]
    },
    {
      "cell_type": "code",
      "metadata": {
        "colab": {
          "base_uri": "https://localhost:8080/",
          "height": 297
        },
        "id": "imjg0AQsNOp3",
        "outputId": "c084a81b-057b-4e81-9230-8774b44cb0ef"
      },
      "source": [
        "import numpy as np\n",
        "import matplotlib.pyplot as plt\n",
        "a1=np.zeros((100, 50))\n",
        "\n",
        "rows = np.arange(100)\n",
        "cols=np.arange(50)\n",
        "r2=np.random.choice(rows,2)\n",
        "c2=np.random.choice(cols,2)\n",
        "a1[r2[0]][c2[0]]=1\n",
        "a1[r2[1]][c2[1]]=1\n",
        "t=0\n",
        "g=[]\n",
        "g1=[]\n",
        "sum=0\n",
        "while sum<5000:  \n",
        "  row=np.random.choice(rows,8)\n",
        "  col=np.random.choice(cols,8)\n",
        "  t1=a1[row[0]][col[0]]\n",
        "  t2=a1[row[1]][col[1]]\n",
        "  t3=a1[row[2]][col[2]]\n",
        "  t4=a1[row[3]][col[3]]\n",
        "  a1[row[0]][col[0]]=a1[row[4]][col[4]]\n",
        "  a1[row[1]][col[1]]=a1[row[5]][col[5]]\n",
        "  a1[row[2]][col[2]]=a1[row[6]][col[6]]\n",
        "  a1[row[3]][col[3]]=a1[row[7]][col[7]]\n",
        "  a1[row[4]][col[4]]=t1\n",
        "  a1[row[5]][col[5]]=t2\n",
        "  a1[row[6]][col[6]]=t3\n",
        "  a1[row[7]][col[7]]=t4\n",
        "  for i in rows:\n",
        "   for j in cols:\n",
        "    if(a1[i][j]==1):\n",
        "      array_1_to_4 = np.arange(start = 1, stop =5)\n",
        "      v=np.random.choice(a = array_1_to_4, p = [.25,.25,.25,.25])\n",
        "      if(v==1):\n",
        "       a1[i][(j-1)%50]=1\n",
        "      if(v==2):\n",
        "       a1[(i-1)%100][j]=1\n",
        "      if(v==3):\n",
        "       a1[i][(j+1)%50]=1\n",
        "      if(v==4):\n",
        "       a1[(i+1)%100][j]=1\n",
        "      t1=0\n",
        "      t2=0\n",
        "      t3=0\n",
        "      t4=0\n",
        "  sum=0\n",
        "    \n",
        "  for i in rows:\n",
        "   for j in cols:\n",
        "    sum=sum+a1[i][j]  \n",
        "  t=t+1\n",
        "  g.append(sum)    \n",
        "  g1.append(t)\n",
        "plt.plot(g1, g)\n",
        "plt.xlabel(\"No of iterations\")\n",
        "plt.ylabel(\"No of cases\")\n",
        "\n",
        "t\n",
        "\n",
        "    \n",
        "\n",
        "     \n",
        "      \n",
        "     \n",
        "     \n",
        "    \n",
        "     \n",
        "    \n",
        "     \n",
        "\n"
      ],
      "execution_count": 3,
      "outputs": [
        {
          "output_type": "execute_result",
          "data": {
            "text/plain": [
              "41"
            ]
          },
          "metadata": {
            "tags": []
          },
          "execution_count": 3
        },
        {
          "output_type": "display_data",
          "data": {
            "image/png": "[encoded data removed]",
            "text/plain": [
              "<Figure size 432x288 with 1 Axes>"
            ]
          },
          "metadata": {
            "tags": [],
            "needs_background": "light"
          }
        }
      ]
    }
  ]
}